{
 "cells": [
  {
   "cell_type": "code",
   "id": "initial_id",
   "metadata": {
    "collapsed": true,
    "ExecuteTime": {
     "end_time": "2024-12-28T16:14:26.558282Z",
     "start_time": "2024-12-28T16:14:26.553467Z"
    }
   },
   "source": [
    "import pandas as pd\n",
    "import numpy as np\n",
    "from sklearn.metrics.pairwise import cosine_similarity\n",
    "\n",
    "\n",
    "def load_embeddings(npz_path):\n",
    "    \"\"\"\n",
    "    Load IDs and embeddings from the specified .npz file.\n",
    "    \"\"\"\n",
    "    data = np.load(npz_path, allow_pickle=True)\n",
    "    ids = data['ids']\n",
    "    embeddings = data['features']\n",
    "    return ids, embeddings\n",
    "\n",
    "\n",
    "def find_similar_movies(query_id, k, ids, embeddings):\n",
    "    \"\"\"\n",
    "    Finds the top k most similar movies to the given movie ID based on cosine similarity.\n",
    "    \"\"\"\n",
    "    # Find the index of the given movie ID\n",
    "    query_index = np.where(ids == query_id)[0][0]\n",
    "\n",
    "    # Compute cosine similarities between the query movie and all others\n",
    "    similarities = cosine_similarity(\n",
    "        embeddings[query_index].reshape(1, -1), embeddings\n",
    "    ).flatten()\n",
    "\n",
    "    # Get the top k most similar indices (excluding the query movie itself)\n",
    "    top_k_indices = np.argsort(similarities)[::-1][1:k + 1]\n",
    "\n",
    "    # Get the corresponding IDs and similarity scores\n",
    "    top_k_ids = ids[top_k_indices]\n",
    "    top_k_scores = similarities[top_k_indices]\n",
    "    return top_k_ids, top_k_scores\n",
    "\n",
    "\n",
    "def display_similar_movies(query_id, top_k_ids, top_k_scores, metadata):\n",
    "    \"\"\"\n",
    "    Displays the query movie ID, title, genres, and the most similar movies with their similarity scores.\n",
    "    \"\"\"\n",
    "    # Retrieve metadata for the query movie\n",
    "    query_title, query_genres = metadata.get(query_id, (\"Unknown\", \"Unknown\"))\n",
    "\n",
    "    print(f\"Query Movie:\\nID: {query_id}\\nTitle: {query_title}\\nGenres: {query_genres}\\n\")\n",
    "    print(\"Most Similar Movies:\")\n",
    "\n",
    "    # Display each similar movie with its metadata\n",
    "    for sim_id, score in zip(top_k_ids, top_k_scores):\n",
    "        title, genres = metadata.get(sim_id, (\"Unknown\", \"Unknown\"))\n",
    "        print(f\"ID: {sim_id}\\nTitle: {title}\\nGenres: {genres}\\nSimilarity Score: {score:.4f}\\n\")\n",
    "        print(\"-\" * 80)\n",
    "\n",
    "def load_movie_metadata(csv_path):\n",
    "    \"\"\"\n",
    "    Load movie metadata from a CSV file and return a dictionary mapping movie IDs to titles and genres.\n",
    "    \"\"\"\n",
    "    movies = pd.read_csv(csv_path)\n",
    "    metadata = {(row['movieId']): (row['title'], row['genres']) for _, row in movies.iterrows()}\n",
    "    return metadata"
   ],
   "outputs": [],
   "execution_count": 20
  },
  {
   "metadata": {
    "ExecuteTime": {
     "end_time": "2024-12-29T06:54:54.316352Z",
     "start_time": "2024-12-29T06:54:53.317684Z"
    }
   },
   "cell_type": "code",
   "source": [
    "# Path to the .npz file containing embeddings\n",
    "embeddings_npz_path = \"data/processed/subtitles_bert_large_chunking_features.npz\"  # Replace with your .npz file path\n",
    "movies_csv_path = \"data/ml-20m-psm/movies.csv\"  # Path to the movies metadata CSV file\n",
    "\n",
    "# Load embeddings\n",
    "ids, embeddings = load_embeddings(embeddings_npz_path)\n",
    "\n",
    "# Load movie metadata\n",
    "metadata = load_movie_metadata(movies_csv_path)\n",
    "\n",
    "# Find the top 5 most similar movies to a given movie ID\n",
    "query_movie_id = 1  # Replace with the ID of the query movie\n",
    "top_k = 5\n",
    "similar_movie_ids, similarity_scores = find_similar_movies(query_movie_id, top_k, ids, embeddings)\n",
    "\n",
    "# Display the query movie and its most similar movies\n",
    "display_similar_movies(query_movie_id, similar_movie_ids, similarity_scores, metadata)\n"
   ],
   "id": "d6397737a91d79a2",
   "outputs": [
    {
     "name": "stdout",
     "output_type": "stream",
     "text": [
      "Query Movie:\n",
      "ID: 1\n",
      "Title: Toy Story (1995)\n",
      "Genres: Adventure|Animation|Children|Comedy|Fantasy\n",
      "\n",
      "Most Similar Movies:\n",
      "ID: 3114\n",
      "Title: Toy Story 2 (1999)\n",
      "Genres: Adventure|Animation|Children|Comedy|Fantasy\n",
      "Similarity Score: 0.9940\n",
      "\n",
      "--------------------------------------------------------------------------------\n",
      "ID: 43926\n",
      "Title: Doogal (2006)\n",
      "Genres: Animation|Children\n",
      "Similarity Score: 0.9903\n",
      "\n",
      "--------------------------------------------------------------------------------\n",
      "ID: 100611\n",
      "Title: Escape from Planet Earth (2013)\n",
      "Genres: Adventure|Animation|Comedy|Sci-Fi\n",
      "Similarity Score: 0.9902\n",
      "\n",
      "--------------------------------------------------------------------------------\n",
      "ID: 78499\n",
      "Title: Toy Story 3 (2010)\n",
      "Genres: Adventure|Animation|Children|Comedy|Fantasy|IMAX\n",
      "Similarity Score: 0.9899\n",
      "\n",
      "--------------------------------------------------------------------------------\n",
      "ID: 40339\n",
      "Title: Chicken Little (2005)\n",
      "Genres: Action|Adventure|Animation|Children|Comedy|Sci-Fi\n",
      "Similarity Score: 0.9895\n",
      "\n",
      "--------------------------------------------------------------------------------\n"
     ]
    }
   ],
   "execution_count": 22
  },
  {
   "metadata": {},
   "cell_type": "code",
   "outputs": [],
   "execution_count": null,
   "source": "",
   "id": "aef336a9a6320086"
  }
 ],
 "metadata": {
  "kernelspec": {
   "display_name": "Python 3",
   "language": "python",
   "name": "python3"
  },
  "language_info": {
   "codemirror_mode": {
    "name": "ipython",
    "version": 2
   },
   "file_extension": ".py",
   "mimetype": "text/x-python",
   "name": "python",
   "nbconvert_exporter": "python",
   "pygments_lexer": "ipython2",
   "version": "2.7.6"
  }
 },
 "nbformat": 4,
 "nbformat_minor": 5
}
